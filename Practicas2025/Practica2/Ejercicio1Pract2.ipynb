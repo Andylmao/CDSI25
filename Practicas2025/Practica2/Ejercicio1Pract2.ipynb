{
  "nbformat": 4,
  "nbformat_minor": 0,
  "metadata": {
    "colab": {
      "provenance": []
    },
    "kernelspec": {
      "name": "python3",
      "display_name": "Python 3"
    },
    "language_info": {
      "name": "python"
    }
  },
  "cells": [
    {
      "cell_type": "markdown",
      "source": [
        "# Entrenamiento para ejercicio 1\n",
        "\n",
        "Se etiquetan los videos a partir del nombre etiquetado"
      ],
      "metadata": {
        "id": "es8px6akyBzc"
      }
    },
    {
      "cell_type": "code",
      "execution_count": 1,
      "metadata": {
        "colab": {
          "base_uri": "https://localhost:8080/"
        },
        "id": "0ne5vJj0G56Q",
        "outputId": "bc2c97f4-0f06-401e-c622-4d16c33612f6"
      },
      "outputs": [
        {
          "output_type": "stream",
          "name": "stdout",
          "text": [
            "Etiquetas agregadas y guardadas en /content/drive/MyDrive/pract3Landmrks/labelsejer1.json\n"
          ]
        }
      ],
      "source": [
        "import json\n",
        "import re\n",
        "\n",
        "input_json_path = \"/content/drive/MyDrive/pract3Landmrks/landmarks_pose_hands_ejer1.json\"\n",
        "output_json_path = \"/content/drive/MyDrive/pract3Landmrks/labelsejer1.json\"\n",
        "\n",
        "with open(input_json_path, \"r\") as file:\n",
        "    data = json.load(file)\n",
        "\n",
        "\n",
        "pattern = re.compile(r\"(full|partial|none)_\\d+_\\d+\")\n",
        "\n",
        "\n",
        "for video_name, frames in data.items():\n",
        "    match = pattern.match(video_name)\n",
        "    if match:\n",
        "        label = match.group(1)  # Extraer la etiqueta ('full', 'partial' o 'none')\n",
        "\n",
        "\n",
        "        for frame in frames:\n",
        "            frame[\"label\"] = label\n",
        "\n",
        "\n",
        "with open(output_json_path, \"w\") as file:\n",
        "    json.dump(data, file, indent=4)\n",
        "\n",
        "print(f\"Etiquetas agregadas y guardadas en {output_json_path}\")\n"
      ]
    },
    {
      "cell_type": "code",
      "source": [
        "frame_sizes = [len(frame[\"pose\"]) * 3 + len(frame[\"hands\"]) * 3 for video in data.values() for frame in video]\n",
        "print(\"Tamaños de los frames únicos:\", set(frame_sizes))"
      ],
      "metadata": {
        "id": "yFLRuHRwJBC7",
        "outputId": "7071a1d8-7684-42fc-f141-fccbc61e56a4",
        "colab": {
          "base_uri": "https://localhost:8080/"
        }
      },
      "execution_count": null,
      "outputs": [
        {
          "output_type": "stream",
          "name": "stdout",
          "text": [
            "Tamaños de los frames únicos: {12}\n"
          ]
        }
      ]
    },
    {
      "cell_type": "markdown",
      "source": [],
      "metadata": {
        "id": "p2xbUiyvyNWK"
      }
    },
    {
      "cell_type": "code",
      "source": [
        "import numpy as np\n",
        "\n",
        "X, y = [], []\n",
        "expected_pose_points = 3\n",
        "expected_hand_points = 21\n",
        "\n",
        "for video_name, frames in data.items():\n",
        "    for frame in frames:\n",
        "        landmarks = []\n",
        "\n",
        "\n",
        "        pose_landmarks = frame[\"pose\"][\"left_arm\"] + frame[\"pose\"][\"right_arm\"]\n",
        "        while len(pose_landmarks) < expected_pose_points:\n",
        "            pose_landmarks.append([0, 0, 0])\n",
        "        for point in pose_landmarks:\n",
        "            landmarks.extend(point)\n",
        "\n",
        "\n",
        "        hand_landmarks = frame[\"hands\"]\n",
        "        while len(hand_landmarks) < 2:\n",
        "            hand_landmarks.append([[0, 0, 0]] * expected_hand_points)  # Mano vacía\n",
        "        for hand in hand_landmarks:\n",
        "            for point in hand:\n",
        "                landmarks.extend(point)\n",
        "\n",
        "        X.append(landmarks)\n",
        "        y.append(frame[\"label\"])  #(full, partial, none)\n",
        "\n",
        "X = np.array(X)\n",
        "y = np.array(y)\n",
        "\n",
        "print(\"Forma de X después de normalización:\", X.shape)\n"
      ],
      "metadata": {
        "colab": {
          "base_uri": "https://localhost:8080/"
        },
        "id": "R_bo_2DkHddU",
        "outputId": "360433b9-9574-4fc5-c36a-b8cabbf3546c"
      },
      "execution_count": 2,
      "outputs": [
        {
          "output_type": "stream",
          "name": "stdout",
          "text": [
            "Forma de X después de normalización: (7698, 144)\n"
          ]
        }
      ]
    },
    {
      "cell_type": "markdown",
      "source": [
        "Se normalizan los datos para landmarks faltantes por errores en la extracción"
      ],
      "metadata": {
        "id": "j2wP0hKNyXGb"
      }
    },
    {
      "cell_type": "code",
      "source": [
        "from sklearn.model_selection import train_test_split\n",
        "from sklearn.preprocessing import LabelEncoder\n",
        "\n",
        "\n",
        "label_encoder = LabelEncoder()\n",
        "y_encoded = label_encoder.fit_transform(y)  # full → 0, partial → 1, none → 2\n",
        "\n",
        "\n",
        "X_train, X_test, y_train, y_test = train_test_split(X, y_encoded, test_size=0.2, random_state=42, stratify=y_encoded)\n",
        "\n",
        "print(\"Tamaño de los datos de entrenamiento:\", X_train.shape)\n",
        "print(\"Tamaño de los datos de prueba:\", X_test.shape)"
      ],
      "metadata": {
        "colab": {
          "base_uri": "https://localhost:8080/"
        },
        "id": "WJSVjpB8HrHn",
        "outputId": "d607095b-762f-4acb-b743-c5aca47cbe0c"
      },
      "execution_count": 3,
      "outputs": [
        {
          "output_type": "stream",
          "name": "stdout",
          "text": [
            "Tamaño de los datos de entrenamiento: (6158, 144)\n",
            "Tamaño de los datos de prueba: (1540, 144)\n"
          ]
        }
      ]
    },
    {
      "cell_type": "markdown",
      "source": [
        "## Entrenamiento de modelo RandomForest"
      ],
      "metadata": {
        "id": "jdpEC4Auyd4T"
      }
    },
    {
      "cell_type": "code",
      "source": [
        "from sklearn.ensemble import RandomForestClassifier\n",
        "from sklearn.metrics import accuracy_score, classification_report\n",
        "\n",
        "\n",
        "model = RandomForestClassifier(n_estimators=100, random_state=42)\n",
        "model.fit(X_train, y_train)\n",
        "\n",
        "y_pred = model.predict(X_test)\n",
        "accuracy = accuracy_score(y_test, y_pred)\n",
        "\n",
        "print(f\"Precisión del modelo: {accuracy:.2f}\")\n",
        "print(\"Reporte de clasificación:\\n\", classification_report(y_test, y_pred, target_names=label_encoder.classes_))\n"
      ],
      "metadata": {
        "colab": {
          "base_uri": "https://localhost:8080/"
        },
        "id": "eNwOzemxHyMK",
        "outputId": "9c9a1aeb-615d-417e-bf30-d0d6457a4dac"
      },
      "execution_count": 4,
      "outputs": [
        {
          "output_type": "stream",
          "name": "stdout",
          "text": [
            "Precisión del modelo: 0.98\n",
            "Reporte de clasificación:\n",
            "               precision    recall  f1-score   support\n",
            "\n",
            "        full       0.99      0.97      0.98       592\n",
            "        none       1.00      1.00      1.00       393\n",
            "     partial       0.97      0.99      0.98       555\n",
            "\n",
            "    accuracy                           0.98      1540\n",
            "   macro avg       0.99      0.99      0.99      1540\n",
            "weighted avg       0.98      0.98      0.98      1540\n",
            "\n"
          ]
        }
      ]
    },
    {
      "cell_type": "markdown",
      "source": [
        "Guardo el modelo para test\n"
      ],
      "metadata": {
        "id": "wh-9n8kiyjvB"
      }
    },
    {
      "cell_type": "code",
      "source": [
        "import pickle\n",
        "with open(\"/content/drive/MyDrive/pract3Landmrks/modeloEjer1_rf.pkl\", \"wb\") as f:\n",
        "    pickle.dump(model, f)\n",
        "\n",
        "with open(\"/content/drive/MyDrive/pract3Landmrks/label_encoderEjer1.pkl\", \"wb\") as f:\n",
        "    pickle.dump(label_encoder, f)\n",
        "\n",
        "print(\"Modelo guardado exitosamente.\")"
      ],
      "metadata": {
        "colab": {
          "base_uri": "https://localhost:8080/"
        },
        "id": "G-3TmKQ6wAuz",
        "outputId": "d68ea391-b009-4045-f59c-ab0e5e246396"
      },
      "execution_count": 7,
      "outputs": [
        {
          "output_type": "stream",
          "name": "stdout",
          "text": [
            "Modelo guardado exitosamente.\n"
          ]
        }
      ]
    },
    {
      "cell_type": "code",
      "source": [
        "\n",
        "\n",
        "from google.colab import files\n",
        "\n",
        "\n",
        "uploaded = files.upload()\n",
        "video_path = list(uploaded.keys())[0]\n",
        "print(f\"Video subido: {video_path}\")\n",
        "\n",
        "with open(\"/content/drive/MyDrive/pract3Landmrks/modeloEjer1_rf.pkl\", \"rb\") as f:\n",
        "    model = pickle.load(f)\n",
        "\n",
        "with open(\"/content/drive/MyDrive/pract3Landmrks/label_encoderEjer1.pkl\", \"rb\") as f:\n",
        "    label_encoder = pickle.load(f)\n",
        "\n",
        "\n",
        "with open('/content/drive/MyDrive/pract3Landmrks/nuevo_video.json', 'r') as f:\n",
        "    nuevo_video_data = json.load(f)\n",
        "\n",
        "nuevo_features = extract_video_features(nuevo_video_data)\n",
        "import pandas as pd\n",
        "nuevo_df = pd.DataFrame([nuevo_features])\n",
        "\n",
        "\n",
        "prediccion = model.predict(nuevo_df)\n",
        "clase_predicha = label_encoder.inverse_transform(prediccion)[0]\n",
        "\n",
        "print(f\"El modelo predice que el video pertenece a la clase: {clase_predicha}\")\n"
      ],
      "metadata": {
        "colab": {
          "base_uri": "https://localhost:8080/",
          "height": 55
        },
        "id": "yJnfp8DJwNeU",
        "outputId": "f53cf70d-4f4e-4233-e65f-476a11c460a6"
      },
      "execution_count": null,
      "outputs": [
        {
          "output_type": "display_data",
          "data": {
            "text/plain": [
              "<IPython.core.display.HTML object>"
            ],
            "text/html": [
              "\n",
              "     <input type=\"file\" id=\"files-c803eb66-d8cb-402b-8d35-537394f54740\" name=\"files[]\" multiple disabled\n",
              "        style=\"border:none\" />\n",
              "     <output id=\"result-c803eb66-d8cb-402b-8d35-537394f54740\">\n",
              "      Upload widget is only available when the cell has been executed in the\n",
              "      current browser session. Please rerun this cell to enable.\n",
              "      </output>\n",
              "      <script>// Copyright 2017 Google LLC\n",
              "//\n",
              "// Licensed under the Apache License, Version 2.0 (the \"License\");\n",
              "// you may not use this file except in compliance with the License.\n",
              "// You may obtain a copy of the License at\n",
              "//\n",
              "//      http://www.apache.org/licenses/LICENSE-2.0\n",
              "//\n",
              "// Unless required by applicable law or agreed to in writing, software\n",
              "// distributed under the License is distributed on an \"AS IS\" BASIS,\n",
              "// WITHOUT WARRANTIES OR CONDITIONS OF ANY KIND, either express or implied.\n",
              "// See the License for the specific language governing permissions and\n",
              "// limitations under the License.\n",
              "\n",
              "/**\n",
              " * @fileoverview Helpers for google.colab Python module.\n",
              " */\n",
              "(function(scope) {\n",
              "function span(text, styleAttributes = {}) {\n",
              "  const element = document.createElement('span');\n",
              "  element.textContent = text;\n",
              "  for (const key of Object.keys(styleAttributes)) {\n",
              "    element.style[key] = styleAttributes[key];\n",
              "  }\n",
              "  return element;\n",
              "}\n",
              "\n",
              "// Max number of bytes which will be uploaded at a time.\n",
              "const MAX_PAYLOAD_SIZE = 100 * 1024;\n",
              "\n",
              "function _uploadFiles(inputId, outputId) {\n",
              "  const steps = uploadFilesStep(inputId, outputId);\n",
              "  const outputElement = document.getElementById(outputId);\n",
              "  // Cache steps on the outputElement to make it available for the next call\n",
              "  // to uploadFilesContinue from Python.\n",
              "  outputElement.steps = steps;\n",
              "\n",
              "  return _uploadFilesContinue(outputId);\n",
              "}\n",
              "\n",
              "// This is roughly an async generator (not supported in the browser yet),\n",
              "// where there are multiple asynchronous steps and the Python side is going\n",
              "// to poll for completion of each step.\n",
              "// This uses a Promise to block the python side on completion of each step,\n",
              "// then passes the result of the previous step as the input to the next step.\n",
              "function _uploadFilesContinue(outputId) {\n",
              "  const outputElement = document.getElementById(outputId);\n",
              "  const steps = outputElement.steps;\n",
              "\n",
              "  const next = steps.next(outputElement.lastPromiseValue);\n",
              "  return Promise.resolve(next.value.promise).then((value) => {\n",
              "    // Cache the last promise value to make it available to the next\n",
              "    // step of the generator.\n",
              "    outputElement.lastPromiseValue = value;\n",
              "    return next.value.response;\n",
              "  });\n",
              "}\n",
              "\n",
              "/**\n",
              " * Generator function which is called between each async step of the upload\n",
              " * process.\n",
              " * @param {string} inputId Element ID of the input file picker element.\n",
              " * @param {string} outputId Element ID of the output display.\n",
              " * @return {!Iterable<!Object>} Iterable of next steps.\n",
              " */\n",
              "function* uploadFilesStep(inputId, outputId) {\n",
              "  const inputElement = document.getElementById(inputId);\n",
              "  inputElement.disabled = false;\n",
              "\n",
              "  const outputElement = document.getElementById(outputId);\n",
              "  outputElement.innerHTML = '';\n",
              "\n",
              "  const pickedPromise = new Promise((resolve) => {\n",
              "    inputElement.addEventListener('change', (e) => {\n",
              "      resolve(e.target.files);\n",
              "    });\n",
              "  });\n",
              "\n",
              "  const cancel = document.createElement('button');\n",
              "  inputElement.parentElement.appendChild(cancel);\n",
              "  cancel.textContent = 'Cancel upload';\n",
              "  const cancelPromise = new Promise((resolve) => {\n",
              "    cancel.onclick = () => {\n",
              "      resolve(null);\n",
              "    };\n",
              "  });\n",
              "\n",
              "  // Wait for the user to pick the files.\n",
              "  const files = yield {\n",
              "    promise: Promise.race([pickedPromise, cancelPromise]),\n",
              "    response: {\n",
              "      action: 'starting',\n",
              "    }\n",
              "  };\n",
              "\n",
              "  cancel.remove();\n",
              "\n",
              "  // Disable the input element since further picks are not allowed.\n",
              "  inputElement.disabled = true;\n",
              "\n",
              "  if (!files) {\n",
              "    return {\n",
              "      response: {\n",
              "        action: 'complete',\n",
              "      }\n",
              "    };\n",
              "  }\n",
              "\n",
              "  for (const file of files) {\n",
              "    const li = document.createElement('li');\n",
              "    li.append(span(file.name, {fontWeight: 'bold'}));\n",
              "    li.append(span(\n",
              "        `(${file.type || 'n/a'}) - ${file.size} bytes, ` +\n",
              "        `last modified: ${\n",
              "            file.lastModifiedDate ? file.lastModifiedDate.toLocaleDateString() :\n",
              "                                    'n/a'} - `));\n",
              "    const percent = span('0% done');\n",
              "    li.appendChild(percent);\n",
              "\n",
              "    outputElement.appendChild(li);\n",
              "\n",
              "    const fileDataPromise = new Promise((resolve) => {\n",
              "      const reader = new FileReader();\n",
              "      reader.onload = (e) => {\n",
              "        resolve(e.target.result);\n",
              "      };\n",
              "      reader.readAsArrayBuffer(file);\n",
              "    });\n",
              "    // Wait for the data to be ready.\n",
              "    let fileData = yield {\n",
              "      promise: fileDataPromise,\n",
              "      response: {\n",
              "        action: 'continue',\n",
              "      }\n",
              "    };\n",
              "\n",
              "    // Use a chunked sending to avoid message size limits. See b/62115660.\n",
              "    let position = 0;\n",
              "    do {\n",
              "      const length = Math.min(fileData.byteLength - position, MAX_PAYLOAD_SIZE);\n",
              "      const chunk = new Uint8Array(fileData, position, length);\n",
              "      position += length;\n",
              "\n",
              "      const base64 = btoa(String.fromCharCode.apply(null, chunk));\n",
              "      yield {\n",
              "        response: {\n",
              "          action: 'append',\n",
              "          file: file.name,\n",
              "          data: base64,\n",
              "        },\n",
              "      };\n",
              "\n",
              "      let percentDone = fileData.byteLength === 0 ?\n",
              "          100 :\n",
              "          Math.round((position / fileData.byteLength) * 100);\n",
              "      percent.textContent = `${percentDone}% done`;\n",
              "\n",
              "    } while (position < fileData.byteLength);\n",
              "  }\n",
              "\n",
              "  // All done.\n",
              "  yield {\n",
              "    response: {\n",
              "      action: 'complete',\n",
              "    }\n",
              "  };\n",
              "}\n",
              "\n",
              "scope.google = scope.google || {};\n",
              "scope.google.colab = scope.google.colab || {};\n",
              "scope.google.colab._files = {\n",
              "  _uploadFiles,\n",
              "  _uploadFilesContinue,\n",
              "};\n",
              "})(self);\n",
              "</script> "
            ]
          },
          "metadata": {}
        }
      ]
    },
    {
      "cell_type": "code",
      "source": [],
      "metadata": {
        "id": "aJsqk1ulzGpR"
      },
      "execution_count": null,
      "outputs": []
    }
  ]
}